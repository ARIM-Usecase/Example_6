{
 "cells": [
  {
   "attachments": {},
   "cell_type": "markdown",
   "id": "3ef6515b",
   "metadata": {},
   "source": [
    "# ARIM-Academy：　機器データ利活用ユースケース\n",
    "### 機器：蛍光分光光度計　（励起-蛍光マトリクス3次元蛍光法）\n",
    "\n",
    "### 分析：1 クラス分類アルゴリズム畳み込みオートエンコーダ (OC-CAE)"
   ]
  },
  {
   "cell_type": "markdown",
   "id": "19794254-72e0-4301-94dc-43f4c28dedaa",
   "metadata": {},
   "source": [
    "\n",
    "## データセット\n",
    "本データセット「ツバキ油データセット」（CAO.mat）は、純正のツバキ油およびそれに異なる割合で混入された大豆油（SBO）、ピーナッツ油（PO）、ヒマワリ油（SO）の二元混合油サンプルに関するEEM（励起-発光マトリックス）蛍光スペクトルデータです。本データセットは、食品の真正性検証に関する研究に使用され、ツバキ油の偽造検出を目的としています[1]。  \n",
    "\n",
    "このデータセットを用いた研究では、異常検出のための1クラス分類アルゴリズムである1クラス畳み込みオートエンコーダ（OC-CAE）を使用します。OC-CAEは、再構成誤差の解析にBoxplotを使用し、CAEの隠れ層で抽出された特徴を用いて局所外れ値因子（LOF）アルゴリズムを適用し、食品の真正性を識別します。  \n",
    "\n",
    "\n",
    "[1]  Xiaoqin Yan, Baoshuo Jia, Wanjun Long, Kun Huang, Tong Wang, Hailong Wu, Ruqin Yu  \"A Novel One-Class Convolutional Autoencoder Combined With Excitation–Emission Matrix Fluorescence Spectroscopy for Authenticity Identification of Food\", Journal of Chemometrics, e3592 (2024)  \n",
    "https://doi.org/10.1002/cem.3592c02495\n",
    "\n",
    "---\n",
    "<br>  \n",
    "<img src=\"./img/main_image.jpg\" width=\"50%\">\n",
    "<br>\n",
    "\n",
    "---"
   ]
  },
  {
   "cell_type": "markdown",
   "id": "85d49353",
   "metadata": {},
   "source": [
    "### 教材への接続\n",
    "google colabにおけるオンラインの場合にこのラインを実行します。（<font color=\"red\">Google colabに接続しない場合には不要</font>）"
   ]
  },
  {
   "cell_type": "code",
   "execution_count": null,
   "id": "75afe210",
   "metadata": {},
   "outputs": [],
   "source": [
    "!git clone https://github.com/ARIM-Usecase/Example_6.git\n",
    "%cd Example_6"
   ]
  },
  {
   "cell_type": "markdown",
   "id": "c6809042",
   "metadata": {},
   "source": [
    "### ライブラリのインポート\n",
    "コード実行で必要なpythonのライブラリをimport文でロードします。"
   ]
  },
  {
   "cell_type": "code",
   "execution_count": 1,
   "id": "fb2674db-a217-4e6b-a79d-dc0f143359e4",
   "metadata": {},
   "outputs": [],
   "source": [
    "#I/Oライブラリ\n",
    "import scipy.io as scio\n",
    "\n",
    "# 汎用ライブラリ\n",
    "import numpy as np\n",
    "import pandas as pd\n",
    "import matplotlib.pyplot as plt\n",
    "\n",
    "# 機械学習\n",
    "from sklearn.neighbors import LocalOutlierFactor as LOF\n",
    "from sklearn import metrics\n",
    "from pyod.models.lof import LOF as PYOD_LOF\n",
    "from sklearn.svm import OneClassSVM\n",
    "\n",
    "# 深層学習\n",
    "import torch\n",
    "import torch.nn as nn\n",
    "import torch.optim as optim\n",
    "import torchvision.transforms as transforms\n",
    "from torchvision.transforms import Resize\n",
    "from torch.utils.data import DataLoader, Dataset"
   ]
  },
  {
   "cell_type": "markdown",
   "id": "c51ee454",
   "metadata": {},
   "source": [
    "## 1. サンプルファイルの読み込み\n",
    "\n",
    "### MATLABデータの読み込み\n",
    "MATLAB形式のデータファイル（.mat）を読み込み、データの前処理を行う関数 load_and_preprocess_data を事前に定義しておきます。引数の`scale_factor`: デフォルト値6000で、データをスケールダウンするための因子です。"
   ]
  },
  {
   "cell_type": "code",
   "execution_count": 2,
   "id": "4df6737f-b5ca-41b1-9217-86b821575cdd",
   "metadata": {},
   "outputs": [],
   "source": [
    "# Data Preprocessing\n",
    "def load_and_preprocess_data(filepath, scale_factor=6000):\n",
    "    yxqdata = scio.loadmat(filepath)\n",
    "    keys = ['X_training_normal', 'X_training', 'X_test', 'X_pre']\n",
    "    data = {key: yxqdata[key] / scale_factor for key in keys}\n",
    "    \n",
    "    for key in data:\n",
    "        data[key][data[key] < 0] = 0\n",
    "\n",
    "    labels = {key: (yxqdata[key.replace('X', 'Y')]).squeeze() for key in keys}\n",
    "    \n",
    "    return data, labels"
   ]
  },
  {
   "cell_type": "code",
   "execution_count": 3,
   "id": "e329383b-f8f0-485f-ad87-fdcc9d7b31e2",
   "metadata": {},
   "outputs": [],
   "source": [
    "data, labels = load_and_preprocess_data('./data/CAO.mat')"
   ]
  },
  {
   "cell_type": "markdown",
   "id": "2dd9c242",
   "metadata": {},
   "source": [
    "【解説】\n",
    "- `scipy.io`（`scio`）の `loadmat` 関数を使って、指定されたファイルパスからMATLABデータを読み込みます。`yxqdata` には、読み込んだデータが辞書形式で格納されます。\n",
    "- `keys` というリストには、読み込むデータのキーが含まれています。\n",
    "- 辞書内包表記を使って、各キーに対してデータをスケールダウンします。\n",
    "- 次に、各データセット内の負の値を0に置き換えます。\n",
    "- 同様に、`labels` という辞書を作成します。各キーの名前を `X` から `Y` に置き換えて、対応するラベルデータを抽出します。また、`squeeze()` メソッドを使用して、不要な次元を削除します。"
   ]
  },
  {
   "cell_type": "markdown",
   "id": "c6498dad",
   "metadata": {},
   "source": [
    "### 画像変換\n",
    "data_resize()関数を定義しでデータをリサイズします。ここでは入力データを [チャネル数, 高さ, 幅] 形式に変換します。続いて、NumPy配列をPyTorchテンソルに変換し、リサイズ処理に適した形状に変換します。"
   ]
  },
  {
   "cell_type": "code",
   "execution_count": 4,
   "id": "6daec96c-a2ae-435a-b834-5e3f4c707395",
   "metadata": {},
   "outputs": [],
   "source": [
    "def data_resize(data, a, b):\n",
    "    data_1 = np.moveaxis(data, -1, 0)\n",
    "    data_1 = torch.from_numpy(data_1.astype(np.float32)).unsqueeze(0)\n",
    "    torch_resize = Resize([a, b])\n",
    "    data_resize = torch_resize(data_1)\n",
    "    data_resize = data_resize.squeeze(0).numpy()\n",
    "    \n",
    "    return np.moveaxis(data_resize, 0, -1)"
   ]
  },
  {
   "cell_type": "code",
   "execution_count": 5,
   "id": "9393b7a6-5e21-4abd-a607-fea36054a087",
   "metadata": {},
   "outputs": [],
   "source": [
    "for key in data:\n",
    "    data[key] = data_resize(data[key], 80, 120)"
   ]
  },
  {
   "cell_type": "markdown",
   "id": "0a7250f6-fee9-4a58-954b-d3b01a2a37ce",
   "metadata": {},
   "source": [
    "## 2. データセット定義\n",
    "PyTorchの `Dataset` クラスを継承して、カスタムデータセットクラス `yxqDataset` を定義しています。このクラスは、モデルをトレーニングする際にデータとラベルを扱うためのものです。"
   ]
  },
  {
   "cell_type": "code",
   "execution_count": 6,
   "id": "675a3c56-938b-49ba-b8fb-30ee9ef308a0",
   "metadata": {},
   "outputs": [],
   "source": [
    "# Dataset Definition\n",
    "class yxqDataset(Dataset):\n",
    "    def __init__(self, data, labels, transform=None):\n",
    "        self.labels = labels\n",
    "        self.imgs = data\n",
    "        self.transform = transform\n",
    "\n",
    "    def __len__(self):\n",
    "        return len(self.labels)\n",
    "\n",
    "    def __getitem__(self, idx):\n",
    "        image = self.imgs[:, :, idx]\n",
    "        label = self.labels[idx]\n",
    "        if self.transform:\n",
    "            image = self.transform(image)\n",
    "        return image, label"
   ]
  },
  {
   "cell_type": "markdown",
   "id": "1e261637-ee48-413a-b2d3-6c5e49526e5e",
   "metadata": {},
   "source": [
    "\n",
    "各メソッドの簡単な説明は次の通りです：\n",
    "\n",
    "1. **`__init__` メソッド**：\n",
    "   - 初期化関数で、データ (`data`)、ラベル (`labels`)、およびデータに適用する変換 (`transform`) を受け取ります。\n",
    "   - `self.labels` にラベルを、`self.imgs` にデータ（画像）を格納します。`self.transform` には、もし変換が指定されていれば格納します。\n",
    "\n",
    "2. **`__len__` メソッド**：\n",
    "   - データセットの長さ（つまり、データの総数）を返します。`len(self.labels)` でラベルの数を取得して返しています。\n",
    "\n",
    "3. **`__getitem__` メソッド**：\n",
    "   - 指定されたインデックス `idx` に基づいて、対応する画像とラベルのペアを返します。\n",
    "   - 画像は `self.imgs[:, :, idx]` で取得され、対応するラベルは `self.labels[idx]` で取得されます。\n",
    "   - もし、`transform` が指定されていれば、画像に対してその変換を適用してから返します。\n",
    "\n",
    "このクラスにより、PyTorchのデータローダーで扱える形式のデータセットが簡単に作成できます。"
   ]
  },
  {
   "cell_type": "markdown",
   "id": "454f9cc9-f566-4a89-8a58-24f480a31e4f",
   "metadata": {},
   "source": [
    "### 画像データをテンソル形式に変換\n",
    "PyTorchの `transforms` モジュールから `ToTensor()` 変換が呼び出し、**画像データをテンソル形式に変換**する処理を行います。この変換を適用することで、画像をPyTorchのニューラルネットワークに入力できる形式（テンソル）に変換できるようになります。"
   ]
  },
  {
   "cell_type": "code",
   "execution_count": 7,
   "id": "e780dd64-fa45-407e-bd07-c483090b9481",
   "metadata": {},
   "outputs": [],
   "source": [
    "data_tf = transforms.ToTensor()"
   ]
  },
  {
   "cell_type": "markdown",
   "id": "e9ce65ee-dd0a-4ca4-ad4c-6e2d337f09ac",
   "metadata": {},
   "source": [
    "【解説】`ToTensor()`メソッド  は：\n",
    "- `ToTensor()` は、通常 **PIL画像**（またはNumPy配列）のデータを **PyTorchテンソル** に変換します。\n",
    "- 画像のピクセル値が通常0から255の範囲ですが、`ToTensor()` はそれらを0から1の範囲に正規化します（データ型が `float32` になりになります。"
   ]
  },
  {
   "cell_type": "markdown",
   "id": "6365ed70-da81-48e1-ab74-c333828b6b04",
   "metadata": {},
   "source": [
    "## データのロード\n",
    "PyTorchの DataLoader を使ってデータのローディングプロセスを定義します。データセットとラベルをバッチ単位で扱い、訓練に必要なデータを準備するための関数です。"
   ]
  },
  {
   "cell_type": "code",
   "execution_count": 8,
   "id": "607f2bd7-d567-462b-868e-c1951c1f79f0",
   "metadata": {},
   "outputs": [],
   "source": [
    "def create_dataloader(data, labels, batch_size=16, shuffle=True):\n",
    "    dataset = yxqDataset(data, labels, transform=data_tf)\n",
    "    \n",
    "    return DataLoader(dataset, batch_size=batch_size, shuffle=shuffle)"
   ]
  },
  {
   "cell_type": "code",
   "execution_count": 9,
   "id": "0e15e413-e977-43f2-990c-796e5d07defa",
   "metadata": {},
   "outputs": [],
   "source": [
    "train_normal_loader = create_dataloader(data['X_training_normal'], labels['X_training_normal'])"
   ]
  },
  {
   "cell_type": "markdown",
   "id": "1be851a8-d05e-4898-b4a8-7b68cfaa2f20",
   "metadata": {},
   "source": [
    "## 3.畳み込みオートエンコーダー（CAE）\n",
    "\n",
    "畳み込みオートエンコーダー（CAE: Convolutional Autoencoder）を定義します。CAEは、入力データを圧縮し、その後に再構成するニューラルネットワークモデルで、主にデータの次元削減やノイズ除去、特徴抽出などに用いられます。"
   ]
  },
  {
   "cell_type": "code",
   "execution_count": 10,
   "id": "9e94399d-4030-4584-bbf6-b00409bd2f81",
   "metadata": {},
   "outputs": [],
   "source": [
    "# Define CAE\n",
    "class ConvAutoencoder(nn.Module):\n",
    "    def __init__(self):\n",
    "        super(ConvAutoencoder, self).__init__()\n",
    "        self.encoder1 = nn.Sequential(\n",
    "            nn.Conv2d(1, 16, kernel_size=3, stride=1, padding=1),\n",
    "            nn.ReLU()\n",
    "        )\n",
    "        self.encoder1_pool = nn.MaxPool2d(kernel_size=2, stride=2, return_indices=True)\n",
    "        self.encoder2 = nn.Sequential(\n",
    "            nn.Conv2d(16, 32, kernel_size=3, stride=1, padding=0),\n",
    "            nn.ReLU()\n",
    "        )\n",
    "        self.encoder2_pool = nn.MaxPool2d(kernel_size=2, stride=2, return_indices=True)\n",
    "        self.fc1 = nn.Sequential(\n",
    "            nn.Flatten(),\n",
    "            nn.Linear(32 * 19 * 29, 120),\n",
    "            nn.Linear(120, 32)\n",
    "        )\n",
    "        self.fc2 = nn.Sequential(\n",
    "            nn.Linear(32, 120),\n",
    "            nn.Linear(120, 32 * 19 * 29),\n",
    "            nn.Unflatten(1, (32, 19, 29))\n",
    "        )\n",
    "        self.decoder = nn.Sequential(\n",
    "            nn.ConvTranspose2d(32, 16, kernel_size=3, stride=1, padding=0),\n",
    "            nn.ReLU(),\n",
    "            nn.ConvTranspose2d(16, 1, kernel_size=3, stride=1, padding=1),\n",
    "            nn.Tanh()\n",
    "        )\n",
    "        self.unpool1 = nn.MaxUnpool2d(kernel_size=2, stride=2)\n",
    "        self.unpool2 = nn.MaxUnpool2d(kernel_size=2, stride=2)\n",
    "\n",
    "    def forward(self, x):\n",
    "        x = self.encoder1(x)\n",
    "        x, ind1 = self.encoder1_pool(x)\n",
    "        x = self.encoder2(x)\n",
    "        x, ind2 = self.encoder2_pool(x)\n",
    "        encoded = self.fc1(x)\n",
    "        x = self.fc2(encoded)\n",
    "        x = self.unpool1(x, ind2)\n",
    "        x = self.decoder[0:2](x)\n",
    "        x = self.unpool2(x, ind1)\n",
    "        decoded = self.decoder[2:](x)\n",
    "        \n",
    "        return encoded, decoded"
   ]
  },
  {
   "cell_type": "markdown",
   "id": "1f7b837f-e679-407d-95ad-6fd8ecc5600f",
   "metadata": {},
   "source": [
    "### 各部分の説明：\n",
    "\n",
    "1. **クラス定義と初期化 (`__init__`)**:\n",
    "   - `ConvAutoencoder` は、PyTorchの `nn.Module` を継承して作成され、エンコーダー（データを圧縮）とデコーダー（データを再構成）を持ちます。\n",
    "   - `super(ConvAutoencoder, self).__init__()` によって、親クラス（`nn.Module`）の初期化関数を呼び出します。\n",
    "\n",
    "2. **エンコーダー部分**:\n",
    "   - **`encoder1`**:\n",
    "     - `nn.Conv2d(1, 16, kernel_size=3, stride=1, padding=1)`：1チャンネルの入力画像を16チャンネルに変換する2D畳み込み層。\n",
    "     - `nn.ReLU()`：活性化関数としてReLUを使用します。\n",
    "   - **`encoder1_pool`**:\n",
    "     - `nn.MaxPool2d` を使って、プーリング操作を行い、特徴マップの次元を削減します。`return_indices=True` によって、プーリングの際に選ばれたインデックスも保持します（後で逆操作に使用）。\n",
    "   - **`encoder2`**:\n",
    "     - 2つ目の畳み込み層で、16チャンネルから32チャンネルに変換します。\n",
    "   - **`encoder2_pool`**:\n",
    "     - さらにプーリングして次元削減を行います。\n",
    "\n",
    "3. **全結合層**:\n",
    "   - **`fc1`**（圧縮部分）:\n",
    "     - `nn.Flatten()` でデータを1次元に変換し、次に `nn.Linear(32 * 19 * 29, 120)` で線形変換を行い、さらに圧縮します。その後、最終的に `nn.Linear(120, 32)` で32次元のベクトルに圧縮します。\n",
    "   - **`fc2`**（復元部分）:\n",
    "     - `fc1` の逆操作として、再度高次元に変換します。`nn.Linear(32, 120)` で120次元に拡張し、さらに `nn.Linear(120, 32 * 19 * 29)` で畳み込み層の入力次元に戻します。\n",
    "     - `nn.Unflatten(1, (32, 19, 29))` でテンソルを2D画像形式に戻します。\n",
    "\n",
    "4. **デコーダー部分**:\n",
    "   - **`decoder`**:\n",
    "     - `nn.ConvTranspose2d(32, 16, kernel_size=3)`：逆畳み込み層を使い、32チャンネルから16チャンネルに変換し、次に1チャンネルに戻します。\n",
    "     - `nn.Tanh()`：出力層でtanh活性化関数を使い、値を [-1, 1] の範囲に正規化します。\n",
    "\n",
    "5. **アンプーリング (`unpool1` と `unpool2`)**:\n",
    "   - プーリングで保持していたインデックス (`ind1`, `ind2`) を使って、`MaxUnpool2d` で元のサイズに逆変換します。\n",
    "\n",
    "### 順伝播 (`forward`) メソッド：\n",
    "1. **エンコーディング**:\n",
    "   - 入力データ `x` を `encoder1` と `encoder1_pool` に通し、次に `encoder2` と `encoder2_pool` に通して特徴マップを圧縮します。この時、各プーリング操作でインデックスを取得します（`ind1`, `ind2`）。\n",
    "   - その後、全結合層 `fc1` を使ってデータをさらに圧縮して、32次元のベクトル `encoded` にします。\n",
    "\n",
    "2. **デコーディング**:\n",
    "   - `fc2` を使って、32次元のベクトルを元の形状に復元し、次にアンプーリング操作を行ってデータの次元を拡張します。\n",
    "   - 逆畳み込み層で元の1チャンネル画像に再構成し、最終的に `decoded` として出力します。"
   ]
  },
  {
   "cell_type": "markdown",
   "id": "754cdd44-5ed1-44c9-a21d-fee808785389",
   "metadata": {},
   "source": [
    "### モデル定義\n",
    "モデルのインスタンスを作成し、オートエンコーダーモデルの学習に必要な設定として損失関数と最適化アルゴリズムを定義します。ここではモデル（`ConvAutoencoder`）に対してMSEを基準に誤差を計算し、Adam最適化アルゴリズムを使ってパラメータを更新させます。"
   ]
  },
  {
   "cell_type": "code",
   "execution_count": 11,
   "id": "2772c356-c814-4f83-9ce4-5c6303cdcd6b",
   "metadata": {},
   "outputs": [],
   "source": [
    "model = ConvAutoencoder()\n",
    "criterion = nn.MSELoss()\n",
    "optimizer = optim.Adam(model.parameters(), lr=1e-3)"
   ]
  },
  {
   "cell_type": "markdown",
   "id": "a1536bd7-f29c-4bc3-ae12-5ce4ebeefc3e",
   "metadata": {},
   "source": [
    "1. **`model = ConvAutoencoder()`**:\n",
    "   - 先ほど定義した `ConvAutoencoder` クラスのインスタンスを作成しています。これにより、畳み込みオートエンコーダーモデルが初期化され、使用可能になります。\n",
    "\n",
    "2. **`criterion = nn.MSELoss()`**:\n",
    "   - 損失関数として **平均二乗誤差 (MSE: Mean Squared Error)** を使用します。MSEは、モデルの出力（再構成された画像）と、元の入力画像との間の誤差（差の二乗の平均）を計算し、これを最小化するようにモデルを訓練します。\n",
    "   - オートエンコーダーの場合、入力画像と復元画像の差を評価するためにMSEがよく使われます。\n",
    "\n",
    "3. **`optimizer = optim.Adam(model.parameters(), lr=1e-3)`**:\n",
    "   - **Adam最適化アルゴリズム** を使用して、モデルの重みを更新します。Adamは、勾配降下法の一種で、学習率の自動調整や慣性を考慮することで、効率的に学習を進めることができます。\n",
    "   - `model.parameters()` で、モデル内の全ての学習可能なパラメータ（重みとバイアス）を指定しています。\n",
    "   - `lr=1e-3` で学習率を設定しており、この値はパラメータの更新のステップサイズを決定します。1e-3（0.001）は一般的な初期設定ですが、後で調整することもあります。"
   ]
  },
  {
   "cell_type": "code",
   "execution_count": 12,
   "id": "ca9f2d6d-e765-445c-8dc0-913c74b100d3",
   "metadata": {},
   "outputs": [],
   "source": [
    "#評価値の記録用データフレームの作成\n",
    "df = pd.DataFrame(columns=['epoch', 'train_loss'])\n",
    "df.to_csv('./result/CAO/loss/CAO_loss1.csv', index=False)"
   ]
  },
  {
   "cell_type": "markdown",
   "id": "c017b2af-71a3-4c3e-8fdc-e180929c2aff",
   "metadata": {},
   "source": [
    "### トレーニングの定義\n",
    "このコードでは、モデルのトレーニングを実際に行う関数 `train_model` を定義します。トレーニングデータを複数のエポックにわたってモデルに通し、損失を最小化するためにモデルのパラメータを更新させます。また、各エポックの損失をCSVファイルに保存します。力に表示するとともに、損失値をCSVファイルに保存して後で確認できるようにしています。"
   ]
  },
  {
   "cell_type": "code",
   "execution_count": 13,
   "id": "54dc79ee-b5cf-4959-ab0f-282ef900ffcb",
   "metadata": {},
   "outputs": [],
   "source": [
    "# Training Function\n",
    "def train_model(num_epochs, model, train_loader, criterion, optimizer):\n",
    "    train_losses = []\n",
    "    for epoch in range(num_epochs):\n",
    "        train_loss = 0.0\n",
    "        model.train()\n",
    "        for img, _ in train_loader:\n",
    "            img = img.float()\n",
    "            train_recon, train_recon2 = model(img)\n",
    "            loss = criterion(train_recon2, img)\n",
    "            \n",
    "            optimizer.zero_grad()\n",
    "            loss.backward()\n",
    "            optimizer.step()\n",
    "            \n",
    "            train_loss += loss.item() * img.size(0)\n",
    "        \n",
    "        train_loss /= len(train_loader.dataset)\n",
    "        print(f'Epoch {epoch+1}/{num_epochs}, Training Loss: {train_loss:.6f}')\n",
    "        train_losses.append(train_loss)\n",
    "        df = pd.DataFrame([[epoch + 1, train_loss]])\n",
    "        df.to_csv('./result/CAO/loss/CAO_loss1.csv', mode='a', header=False, index=False)\n",
    "\n",
    "    return train_losses"
   ]
  },
  {
   "cell_type": "markdown",
   "id": "a87aa31f-b084-48af-8d65-35c4b96799ae",
   "metadata": {},
   "source": [
    "### 各部分の説明：\n",
    "1. **`train_model` 関数**:\n",
    "   - **引数**:\n",
    "     - `num_epochs`: 訓練を行うエポック数。\n",
    "     - `model`: 訓練するオートエンコーダーモデル。\n",
    "     - `train_loader`: トレーニングデータを供給するデータローダー。\n",
    "     - `criterion`: 損失関数（ここではMSE）。\n",
    "     - `optimizer`: パラメータを更新するための最適化アルゴリズム（ここではAdam）。\n",
    "   \n",
    "   - **戻り値**: \n",
    "     - `train_losses`: 各エポックごとの損失が格納されたリスト。\n",
    "\n",
    "2. **トレーニングループ (`for epoch in range(num_epochs)`)**:\n",
    "   - エポックごとにトレーニングを行います。\n",
    "   - 各エポックで、`train_loss = 0.0` としてエポックごとのトレーニング損失を初期化し、ミニバッチごとに損失を積算します。\n",
    "\n",
    "3. **ミニバッチトレーニング (`for img, _ in train_loader`)**:\n",
    "   - データローダー `train_loader` からミニバッチ（`img`）を取得して、モデルに通します。\n",
    "   - **`model.train()`** は、モデルをトレーニングモードに設定します（ドロップアウトやバッチ正規化などが有効になります）。\n",
    "   \n",
    "4. **順伝播と損失計算**:\n",
    "   - `train_recon, train_recon2 = model(img)` で、オートエンコーダーモデルに画像を入力し、出力（`train_recon2`）を得ます。\n",
    "   - `loss = criterion(train_recon2, img)` で、モデルの再構成された画像（`train_recon2`）と元の画像（`img`）との間の誤差（損失）を計算します。\n",
    "\n",
    "5. **逆伝播とパラメータ更新**:\n",
    "   - `optimizer.zero_grad()` で勾配を初期化し、`loss.backward()` で誤差の逆伝播を行います。\n",
    "   - `optimizer.step()` でモデルのパラメータを更新します。\n",
    "   - 各バッチごとの損失を積算して、エポック全体の損失 `train_loss` に加算します。\n",
    "\n",
    "6. **エポックごとの損失計算**:\n",
    "   - `train_loss /= len(train_loader.dataset)` で、エポック全体の平均損失を計算します。\n",
    "   - エポックの進行状況と損失を出力します（`print(f'Epoch...`）。\n",
    "   - 損失をリスト `train_losses` に保存します。\n",
    "\n",
    "7. **CSVファイルに損失を保存**:\n",
    "   - 損失を `pandas.DataFrame` を使ってCSVファイルに追記しています（`df.to_csv(...)`）。この処理は、学習の進捗を後から確認したり、外部に結果を共有するために便利です。\n",
    "   - ファイルパスは `./result/CAO/loss/CAO_loss1.csv` で、エポックごとに損失がCSVに追記されます。"
   ]
  },
  {
   "cell_type": "markdown",
   "id": "ad76a44e-e351-497b-a1f6-bc627a9bd7e8",
   "metadata": {},
   "source": [
    "### モデル実行\n",
    "100エポック（または指定されたエポック数）にわたってオートエンコーダーモデルを訓練します。"
   ]
  },
  {
   "cell_type": "code",
   "execution_count": 14,
   "id": "d4659e1b-1698-42a0-a3a7-5ff78a5c9489",
   "metadata": {},
   "outputs": [
    {
     "name": "stdout",
     "output_type": "stream",
     "text": [
      "Epoch 1/100, Training Loss: 0.038269\n",
      "Epoch 2/100, Training Loss: 0.014762\n",
      "Epoch 3/100, Training Loss: 0.006817\n",
      "Epoch 4/100, Training Loss: 0.004750\n",
      "Epoch 5/100, Training Loss: 0.003891\n",
      "Epoch 6/100, Training Loss: 0.003353\n",
      "Epoch 7/100, Training Loss: 0.002980\n",
      "Epoch 8/100, Training Loss: 0.002673\n",
      "Epoch 9/100, Training Loss: 0.002422\n",
      "Epoch 10/100, Training Loss: 0.002219\n",
      "Epoch 11/100, Training Loss: 0.002045\n",
      "Epoch 12/100, Training Loss: 0.001902\n",
      "Epoch 13/100, Training Loss: 0.001777\n",
      "Epoch 14/100, Training Loss: 0.001672\n",
      "Epoch 15/100, Training Loss: 0.001576\n",
      "Epoch 16/100, Training Loss: 0.001490\n",
      "Epoch 17/100, Training Loss: 0.001411\n",
      "Epoch 18/100, Training Loss: 0.001340\n",
      "Epoch 19/100, Training Loss: 0.001274\n",
      "Epoch 20/100, Training Loss: 0.001212\n",
      "Epoch 21/100, Training Loss: 0.001155\n",
      "Epoch 22/100, Training Loss: 0.001103\n",
      "Epoch 23/100, Training Loss: 0.001053\n",
      "Epoch 24/100, Training Loss: 0.001008\n",
      "Epoch 25/100, Training Loss: 0.000963\n",
      "Epoch 26/100, Training Loss: 0.000921\n",
      "Epoch 27/100, Training Loss: 0.000881\n",
      "Epoch 28/100, Training Loss: 0.000844\n",
      "Epoch 29/100, Training Loss: 0.000809\n",
      "Epoch 30/100, Training Loss: 0.000776\n",
      "Epoch 31/100, Training Loss: 0.000745\n",
      "Epoch 32/100, Training Loss: 0.000715\n",
      "Epoch 33/100, Training Loss: 0.000687\n",
      "Epoch 34/100, Training Loss: 0.000661\n",
      "Epoch 35/100, Training Loss: 0.000636\n",
      "Epoch 36/100, Training Loss: 0.000612\n",
      "Epoch 37/100, Training Loss: 0.000588\n",
      "Epoch 38/100, Training Loss: 0.000569\n",
      "Epoch 39/100, Training Loss: 0.000545\n",
      "Epoch 40/100, Training Loss: 0.000524\n",
      "Epoch 41/100, Training Loss: 0.000503\n",
      "Epoch 42/100, Training Loss: 0.000485\n",
      "Epoch 43/100, Training Loss: 0.000466\n",
      "Epoch 44/100, Training Loss: 0.000452\n",
      "Epoch 45/100, Training Loss: 0.000434\n",
      "Epoch 46/100, Training Loss: 0.000417\n",
      "Epoch 47/100, Training Loss: 0.000402\n",
      "Epoch 48/100, Training Loss: 0.000388\n",
      "Epoch 49/100, Training Loss: 0.000375\n",
      "Epoch 50/100, Training Loss: 0.000362\n",
      "Epoch 51/100, Training Loss: 0.000349\n",
      "Epoch 52/100, Training Loss: 0.000337\n",
      "Epoch 53/100, Training Loss: 0.000326\n",
      "Epoch 54/100, Training Loss: 0.000314\n",
      "Epoch 55/100, Training Loss: 0.000304\n",
      "Epoch 56/100, Training Loss: 0.000293\n",
      "Epoch 57/100, Training Loss: 0.000283\n",
      "Epoch 58/100, Training Loss: 0.000274\n",
      "Epoch 59/100, Training Loss: 0.000265\n",
      "Epoch 60/100, Training Loss: 0.000265\n",
      "Epoch 61/100, Training Loss: 0.000266\n",
      "Epoch 62/100, Training Loss: 0.000264\n",
      "Epoch 63/100, Training Loss: 0.000237\n",
      "Epoch 64/100, Training Loss: 0.000227\n",
      "Epoch 65/100, Training Loss: 0.000221\n",
      "Epoch 66/100, Training Loss: 0.000213\n",
      "Epoch 67/100, Training Loss: 0.000206\n",
      "Epoch 68/100, Training Loss: 0.000201\n",
      "Epoch 69/100, Training Loss: 0.000194\n",
      "Epoch 70/100, Training Loss: 0.000188\n",
      "Epoch 71/100, Training Loss: 0.000182\n",
      "Epoch 72/100, Training Loss: 0.000177\n",
      "Epoch 73/100, Training Loss: 0.000172\n",
      "Epoch 74/100, Training Loss: 0.000168\n",
      "Epoch 75/100, Training Loss: 0.000163\n",
      "Epoch 76/100, Training Loss: 0.000159\n",
      "Epoch 77/100, Training Loss: 0.000155\n",
      "Epoch 78/100, Training Loss: 0.000151\n",
      "Epoch 79/100, Training Loss: 0.000147\n",
      "Epoch 80/100, Training Loss: 0.000143\n",
      "Epoch 81/100, Training Loss: 0.000139\n",
      "Epoch 82/100, Training Loss: 0.000135\n",
      "Epoch 83/100, Training Loss: 0.000131\n",
      "Epoch 84/100, Training Loss: 0.000128\n",
      "Epoch 85/100, Training Loss: 0.000125\n",
      "Epoch 86/100, Training Loss: 0.000122\n",
      "Epoch 87/100, Training Loss: 0.000119\n",
      "Epoch 88/100, Training Loss: 0.000116\n",
      "Epoch 89/100, Training Loss: 0.000113\n",
      "Epoch 90/100, Training Loss: 0.000110\n",
      "Epoch 91/100, Training Loss: 0.000107\n",
      "Epoch 92/100, Training Loss: 0.000105\n",
      "Epoch 93/100, Training Loss: 0.000102\n",
      "Epoch 94/100, Training Loss: 0.000100\n",
      "Epoch 95/100, Training Loss: 0.000103\n",
      "Epoch 96/100, Training Loss: 0.000113\n",
      "Epoch 97/100, Training Loss: 0.000101\n",
      "Epoch 98/100, Training Loss: 0.000100\n",
      "Epoch 99/100, Training Loss: 0.000120\n",
      "Epoch 100/100, Training Loss: 0.000109\n"
     ]
    }
   ],
   "source": [
    "# Train the Model\n",
    "num_epochs = 100\n",
    "train_losses = train_model(num_epochs, model, train_normal_loader, criterion, optimizer)"
   ]
  },
  {
   "cell_type": "markdown",
   "id": "dad5381f-ba3c-48b5-9b10-8f08d0eb451e",
   "metadata": {},
   "source": [
    "### 可視化"
   ]
  },
  {
   "cell_type": "code",
   "execution_count": 15,
   "id": "9c130fc8-9b46-4d79-a00c-c0001ac64137",
   "metadata": {},
   "outputs": [
    {
     "data": {
      "image/png": "[encoded data removed]",
      "text/plain": [
       "<Figure size 640x480 with 1 Axes>"
      ]
     },
     "metadata": {},
     "output_type": "display_data"
    }
   ],
   "source": [
    "# Plot Training Loss\n",
    "plt.plot(train_losses, label='Training Loss')\n",
    "plt.xlabel('Epoch')\n",
    "plt.ylabel('Loss')\n",
    "plt.legend()\n",
    "plt.show()"
   ]
  },
  {
   "cell_type": "markdown",
   "id": "aa53995e-4642-49b3-a56d-5501f1696154",
   "metadata": {},
   "source": [
    "### 画像比較\n",
    "オートエンコーダーモデルによって再構成された画像と元の画像を比較するために、画像をプロットする関数 plot_reconstructed_images を定義し、入力された画像と、それをモデルが再構成した画像を並べて可視化します。"
   ]
  },
  {
   "cell_type": "code",
   "execution_count": 16,
   "id": "e366c4b1-0299-436d-ad56-115be98e0595",
   "metadata": {},
   "outputs": [],
   "source": [
    "def plot_reconstructed_images(trainset_normal, model):\n",
    "    n = 5\n",
    "    fig = plt.figure(figsize=(10, 4))  # プロットのサイズを指定\n",
    "    for i in range(n):\n",
    "        # 元画像の表示\n",
    "        plt.subplot(2, n, i + 1)\n",
    "        img = trainset_normal[i][0].unsqueeze(0)\n",
    "        plt.imshow(img.squeeze().numpy(), cmap='jet')\n",
    "        plt.axis('off')  # 軸のラベルをオフにする\n",
    "        \n",
    "        # 再構成された画像の表示\n",
    "        with torch.no_grad():\n",
    "            img = img.float()\n",
    "            output_1, output_2 = model(img)\n",
    "            plt.subplot(2, n, i + 1 + n)\n",
    "            output_2 = output_2.view(1, 80, 120)\n",
    "            plt.imshow(output_2.squeeze().numpy(), cmap='jet')\n",
    "            plt.axis('off')  # 軸のラベルをオフにする\n",
    "\n",
    "    plt.tight_layout()  # レイアウトを自動調整\n",
    "    plt.show()  # プロットを表示"
   ]
  },
  {
   "cell_type": "code",
   "execution_count": 17,
   "id": "7a390018-7aaf-4880-a7db-2e2bd532cc3e",
   "metadata": {},
   "outputs": [
    {
     "data": {
      "image/png": "[encoded data removed]",
      "text/plain": [
       "<Figure size 1000x400 with 10 Axes>"
      ]
     },
     "metadata": {},
     "output_type": "display_data"
    }
   ],
   "source": [
    "plot_reconstructed_images(yxqDataset(data['X_training_normal'], \n",
    "                                     labels['X_training_normal'], \n",
    "                                     transform=data_tf), \n",
    "                          model\n",
    "                         )"
   ]
  },
  {
   "cell_type": "markdown",
   "id": "421e4418-a46c-4d00-af10-6c5438a38273",
   "metadata": {},
   "source": [
    "### モデルの保存\n",
    "pyTorchで訓練したモデルの状態（重みやバイアスなどのパラメータ）をファイルに保存します。"
   ]
  },
  {
   "cell_type": "code",
   "execution_count": 18,
   "id": "731f8239-ed7f-4011-b830-86a653f7ea10",
   "metadata": {},
   "outputs": [],
   "source": [
    "# Save the model\n",
    "torch.save(model.state_dict(), './result/updated_model_CAO.pt')"
   ]
  },
  {
   "cell_type": "markdown",
   "id": "0598c573-dbc5-40bc-a4ca-9a76cfab0f59",
   "metadata": {},
   "source": [
    "### コードの説明\n",
    "\n",
    "1. **`torch.save(...)`**:\n",
    "   - PyTorchの`torch.save`関数を使用して、モデルの状態を保存します。\n",
    "   \n",
    "2. **`model.state_dict()`**:\n",
    "   - モデルの状態を取得します。`state_dict()` メソッドは、モデルのパラメータ（重みやバイアスなど）を辞書形式で返します。この状態を保存することで、後でモデルを復元できます。\n",
    "\n",
    "3. **`'./updated_model_CAO.pt'`**:\n",
    "   - モデルを保存するファイル名とパスを指定しています。`'./'` は現在の作業ディレクトリを示し、`'updated_model_CAO.pt'` は保存されるファイル名です。ファイル拡張子 `.pt` は、PyTorchのモデルファイルによく使われる形式です。"
   ]
  },
  {
   "cell_type": "markdown",
   "id": "70bba6dd-e9ae-4e68-8689-1f3609342bc4",
   "metadata": {},
   "source": [
    "## 4.データローダの復元\n",
    "保存されたPyTorchモデルをロードし、さまざまなデータセットに対するデータローダーを作成します。"
   ]
  },
  {
   "cell_type": "code",
   "execution_count": 19,
   "id": "0c021565-04e8-4f1a-9b9b-3d3aaa1c8f8b",
   "metadata": {},
   "outputs": [
    {
     "name": "stderr",
     "output_type": "stream",
     "text": [
      "C:\\Users\\japan\\AppData\\Local\\Temp\\ipykernel_21908\\1689299067.py:2: FutureWarning: You are using `torch.load` with `weights_only=False` (the current default value), which uses the default pickle module implicitly. It is possible to construct malicious pickle data which will execute arbitrary code during unpickling (See https://github.com/pytorch/pytorch/blob/main/SECURITY.md#untrusted-models for more details). In a future release, the default value for `weights_only` will be flipped to `True`. This limits the functions that could be executed during unpickling. Arbitrary objects will no longer be allowed to be loaded via this mode unless they are explicitly allowlisted by the user via `torch.serialization.add_safe_globals`. We recommend you start setting `weights_only=True` for any use case where you don't have full control of the loaded file. Please open an issue on GitHub for any issues related to this experimental feature.\n",
      "  model.load_state_dict(torch.load('./result/updated_model_CAO.pt'))\n"
     ]
    },
    {
     "data": {
      "text/plain": [
       "<All keys matched successfully>"
      ]
     },
     "execution_count": 19,
     "metadata": {},
     "output_type": "execute_result"
    }
   ],
   "source": [
    "# Load Model\n",
    "model.load_state_dict(torch.load('./result/updated_model_CAO.pt'))"
   ]
  },
  {
   "cell_type": "markdown",
   "id": "0507bf26-3f9a-45b9-b10e-355b399cb208",
   "metadata": {},
   "source": [
    "異なるデータセット（訓練用、テスト用など）に対するデータローダーを作成します。"
   ]
  },
  {
   "cell_type": "code",
   "execution_count": 20,
   "id": "b978973a-3514-448b-bac0-66e8cfaa6a7d",
   "metadata": {},
   "outputs": [],
   "source": [
    "# Create Loaders\n",
    "training_normal_loader = DataLoader(yxqDataset(data['X_training_normal'], labels['X_training_normal'], transform=data_tf), shuffle=False)\n",
    "training_loader = DataLoader(yxqDataset(data['X_training'], labels['X_training'], transform=data_tf), shuffle=False)\n",
    "test_loader = DataLoader(yxqDataset(data['X_test'], labels['X_test'], transform=data_tf), shuffle=False)\n",
    "pre_loader = DataLoader(yxqDataset(data['X_pre'], labels['X_pre'], transform=data_tf), shuffle=False)"
   ]
  },
  {
   "cell_type": "markdown",
   "id": "5c5ac1a0-2495-4989-b286-a5db1d23f7ae",
   "metadata": {},
   "source": [
    "この関数 CAE は、オートエンコーダーモデルを使用してデータローダーから画像を入力し、再構成された画像とロスを計算します。"
   ]
  },
  {
   "cell_type": "code",
   "execution_count": 21,
   "id": "e50cfc7f-4d8e-4250-b0c6-39690f0f949b",
   "metadata": {},
   "outputs": [],
   "source": [
    "def CAE(loader, model, criterion):\n",
    "    recon_list = []\n",
    "    recon2_list = []\n",
    "    loss_list = []\n",
    "    labels_list = []\n",
    "    model.eval()\n",
    "    with torch.no_grad():\n",
    "        for img, labels in loader:\n",
    "            img = img.float()\n",
    "            recon, recon2 = model(img)\n",
    "            loss = criterion(recon2, img)\n",
    "            loss_list.append(loss.item())\n",
    "            recon_list.extend(recon.cpu().numpy())\n",
    "            recon2_list.extend(recon2.cpu().numpy())\n",
    "            labels_list.extend(labels.numpy())\n",
    "    \n",
    "    labels = np.array(labels_list)\n",
    "    loss = np.array(loss_list)\n",
    "    recon = np.array(recon_list)\n",
    "    recon2_list = np.array(recon2_list).reshape(-1, 80, 120)\n",
    "    return labels, loss, recon, recon2_list"
   ]
  },
  {
   "cell_type": "markdown",
   "id": "ac73d903-cc40-4262-a653-c59acf60cfd8",
   "metadata": {},
   "source": [
    "\n",
    "### コードの説明\n",
    "\n",
    "1. **関数定義**:\n",
    "   ```python\n",
    "   def CAE(loader, model, criterion):\n",
    "   ```\n",
    "   - `loader`: データローダー（通常はトレーニングまたはテスト用のデータセット）を受け取ります。\n",
    "   - `model`: 使用するオートエンコーダーモデル。\n",
    "   - `criterion`: 損失関数（通常は再構成誤差を計算するためのもの）を受け取ります。\n",
    "\n",
    "2. **リストの初期化**:\n",
    "   ```python\n",
    "   recon_list = []\n",
    "   recon2_list = []\n",
    "   loss_list = []\n",
    "   labels_list = []\n",
    "   ```\n",
    "   - これらのリストは、再構成された画像、再構成された画像の出力、ロス、ラベルを保存するために使用されます。\n",
    "\n",
    "3. **モデルを評価モードに設定**:\n",
    "   ```python\n",
    "   model.eval()\n",
    "   ```\n",
    "   - モデルを評価モードに切り替えます。これにより、ドロップアウトやバッチノーマリゼーションの動作が訓練時とは異なります。\n",
    "\n",
    "4. **推論とロス計算**:\n",
    "   ```python\n",
    "   with torch.no_grad():\n",
    "       for img, labels in loader:\n",
    "           img = img.float()\n",
    "           recon, recon2 = model(img)\n",
    "           loss = criterion(recon2, img)\n",
    "           loss_list.append(loss.item())\n",
    "           recon_list.extend(recon.cpu().numpy())\n",
    "           recon2_list.extend(recon2.cpu().numpy())\n",
    "           labels_list.extend(labels.numpy())\n",
    "   ```\n",
    "   - **`torch.no_grad()`**: 勾配の計算を無効にし、メモリ使用量を減少させます。推論時には勾配が必要ないため、計算を効率化します。\n",
    "   - **`for img, labels in loader:`**: データローダーからバッチを取得し、画像とラベルをそれぞれ `img` と `labels` に格納します。\n",
    "   - **`recon, recon2 = model(img)`**: モデルに画像を入力し、再構成された出力（`recon` と `recon2`）を取得します。\n",
    "   - **`loss = criterion(recon2, img)`**: 再構成された画像と元の画像の間のロスを計算します。\n",
    "   - 各リストにロスと画像の再構成結果を追加します。`cpu().numpy()` を使うことで、PyTorchテンソルをNumPy配列に変換します。\n",
    "\n",
    "5. **リストをNumPy配列に変換**:\n",
    "   ```python\n",
    "   labels = np.array(labels_list)\n",
    "   loss = np.array(loss_list)\n",
    "   recon = np.array(recon_list)\n",
    "   recon2_list = np.array(recon2_list).reshape(-1, 80, 120)\n",
    "   ```\n",
    "   - 最後に、各リストをNumPy配列に変換し、`recon2_list` は再構成された画像の形状を `(バッチ数, 80, 120)` に整形します。\n",
    "\n",
    "6. **戻り値**:\n",
    "   ```python\n",
    "   return labels, loss, recon, recon2_list\n",
    "   ```\n",
    "   - 関数は、ラベル、ロス、再構成された画像、2番目の再構成された画像を返します。"
   ]
  },
  {
   "cell_type": "code",
   "execution_count": 22,
   "id": "1ab204a0-c204-482f-91fb-11b1c45dfb50",
   "metadata": {},
   "outputs": [],
   "source": [
    "# Compute Reconstruction Loss\n",
    "training_normal_label, training_normal_loss, training_normal_recon, training_normal_recon2 = CAE(\n",
    "    training_normal_loader, \n",
    "    model, \n",
    "    criterion\n",
    "    )\n",
    "\n",
    "training_label, training_loss, training_recon, training_recon2 = CAE(\n",
    "    training_loader, \n",
    "    model, \n",
    "    criterion\n",
    "    )"
   ]
  },
  {
   "cell_type": "markdown",
   "id": "9661b422-a334-437f-ac57-30eeda9cca79",
   "metadata": {},
   "source": [
    "## 5.異常値検出\n",
    "\n",
    "異常検出のための手法を実装しています。具体的には、ボックスプロットの外れ値判定、局所外れ値因子（LOF）を使用した異常検出、そしてオートエンコーダー（CAE）に基づいた異常検出を行い、訓練データの混同行列を表示するためのものです。\n",
    "\n",
    "#### 全体の流れ\n",
    "1. **外れ値をボックスプロットで検出**: `box_outlier` 関数を用いて、損失データに基づいて外れ値を検出します。\n",
    "2. **異常検出の予測**: `OCC_CAE_class` 関数を使用して、ボックスプロットとLOFに基づく異常の予測を行います。\n",
    "3. **混同行列の表示**: 異常検出の結果を `print_confusion_matrix` 関数で表示し、分類のパフォーマンスを評価します。\n",
    "\n",
    "このコードを通じて、データに対する異常検出のパフォーマンスを定量化し、結果を評価することができます。"
   ]
  },
  {
   "cell_type": "code",
   "execution_count": 23,
   "id": "046c3bf8-d00c-4607-b3ce-2a8b566e1d1b",
   "metadata": {},
   "outputs": [],
   "source": [
    "def box_outlier(df, label):\n",
    "    Q1 = df.quantile(q=0.25)\n",
    "    Q3 = df.quantile(q=0.75)\n",
    "    up_whisker = Q3 + 1.5 * (Q3 - Q1)\n",
    "    low_whisker = Q1 - 1.5 * (Q3 - Q1)\n",
    "    \n",
    "    outliers = df[(df > up_whisker) | (df < low_whisker)]\n",
    "    data = pd.DataFrame({'id': outliers.index, 'Outlier': outliers, 'label': label[outliers.index]})\n",
    "    return data, Q1, Q3, up_whisker, low_whisker, outliers.index"
   ]
  },
  {
   "cell_type": "markdown",
   "id": "f4dd66e7-4054-45a3-a827-a54d5bd6404e",
   "metadata": {},
   "source": [
    "\n",
    "\n",
    "1. **ボックスプロットによる外れ値検.index\n",
    "   ```\n",
    "\n",
    "   - **関数の説明**:\n",
    "     - 入力されたデータフレーム `df` の四分位数（Q1、Q3）を計算し、外れ値の上限（`up_whisker`）と下限（`low_whisker`）を設定します。\n",
    "     - これを基に外れ値を検出し、その情rix` 関数で表示し、分類のパフォーマンスを評価します。\n",
    "\n",
    "このコードを通じて、データに対する異常検出のパフォーマンスを定量化し、結果を評価することができます。"
   ]
  },
  {
   "cell_type": "code",
   "execution_count": 24,
   "id": "4189679a-695c-4a73-8cee-b383a9de91fe",
   "metadata": {},
   "outputs": [],
   "source": [
    "def OCC_CAE_class(label, loss, recon, up_whisker, training_normal_recon):\n",
    "    loss_index_abnormal = np.flatnonzero(loss > up_whisker)\n",
    "    boxplot_prelabel = np.zeros(len(label))\n",
    "    boxplot_prelabel[loss_index_abnormal] = 1\n",
    "\n",
    "    clf = PYOD_LOF(contamination=0.01)\n",
    "    clf.fit(training_normal_recon)\n",
    "    lof_prelabel = clf.predict(recon)\n",
    "\n",
    "    oc_cae_prelabel = boxplot_prelabel + lof_prelabel\n",
    "    oc_cae_prelabel[oc_cae_prelabel > 0] = 1\n",
    "    \n",
    "    return label, boxplot_prelabel, lof_prelabel, oc_cae_prelabel"
   ]
  },
  {
   "cell_type": "markdown",
   "id": "a55676c9-4fb2-4d01-9c5b-09932dca9020",
   "metadata": {},
   "source": [
    "   - **関数の説明**:\n",
    "     - ボックスプロットを用いた異常の予測ラベルを作成します。\n",
    "     - `PYOD_LOF`（局所外れ値因子）を用いて、再構成されたデータに対して異常検出を行います。\n",
    "     - ボックスプロットとLOFの予測を組み合わせて、最終的な異常検出ラベルを作成します。"
   ]
  },
  {
   "cell_type": "code",
   "execution_count": 25,
   "id": "c62fb200-8fc8-4214-8842-0127988050f9",
   "metadata": {},
   "outputs": [],
   "source": [
    "def print_confusion_matrix(label, preds, set_name):\n",
    "    print(f\"{set_name} Classification:\")\n",
    "    print(f\"Confusion Matrix:\\n{metrics.confusion_matrix(label, preds)}\")\n",
    "    tp, fn, fp, tn = metrics.confusion_matrix(label, preds).ravel()\n",
    "    print(f\"tp: {tp}, fn: {fn}, fp: {fp}, tn: {tn}\")\n",
    "    specificity = tn / (tn + fp)\n",
    "    print(f\"Accuracy: {metrics.accuracy_score(label, preds)}\")\n",
    "    print(f\"Specificity: {specificity}\\n\")"
   ]
  },
  {
   "cell_type": "markdown",
   "id": "fb334c66-b5fb-4b0e-80a4-12a4a19398ac",
   "metadata": {},
   "source": [
    "   - **関数の説明**:\n",
    "     - 与えられたラベルと予測値から混同行列を計算し、その結果を出力します。\n",
    "     - 真陽性（TP）、偽陰性（FN）、偽陽性（FP）、真陰性（TN）を取得し、精度と特異度を計算して表示します。"
   ]
  },
  {
   "cell_type": "code",
   "execution_count": 26,
   "id": "6c73fc0f-d7bd-4d20-b8f8-38c263438dd5",
   "metadata": {},
   "outputs": [],
   "source": [
    "df_loss = pd.DataFrame(training_normal_loss, columns=['value'])\n",
    "df_loss = df_loss.iloc[:, 0]"
   ]
  },
  {
   "cell_type": "code",
   "execution_count": 27,
   "id": "077d5013-eaca-4539-8edb-80a2164aebaf",
   "metadata": {},
   "outputs": [],
   "source": [
    "result, Q1, Q3, up_whisker, low_whisker, outlier_index = box_outlier(df_loss, training_normal_label)"
   ]
  },
  {
   "cell_type": "code",
   "execution_count": 29,
   "id": "fe78541b-80ed-46f5-bd44-a89d23565bc1",
   "metadata": {},
   "outputs": [
    {
     "data": {
      "text/plain": [
       "<Axes: >"
      ]
     },
     "execution_count": 29,
     "metadata": {},
     "output_type": "execute_result"
    },
    {
     "data": {
      "image/png": "[encoded data removed]",
      "text/plain": [
       "<Figure size 640x480 with 1 Axes>"
      ]
     },
     "metadata": {},
     "output_type": "display_data"
    }
   ],
   "source": [
    "# box plot\n",
    "fig,axes = plt.subplots()\n",
    "df_loss.plot(kind='box',ax=axes)"
   ]
  },
  {
   "cell_type": "code",
   "execution_count": 30,
   "id": "c5d8cbe3-8dfd-43f6-9cc9-fa613b5e4d28",
   "metadata": {},
   "outputs": [
    {
     "name": "stdout",
     "output_type": "stream",
     "text": [
      "Training Set (Boxplot) Classification:\n",
      "Confusion Matrix:\n",
      "[[25  0]\n",
      " [11 61]]\n",
      "tp: 25, fn: 0, fp: 11, tn: 61\n",
      "Accuracy: 0.8865979381443299\n",
      "Specificity: 0.8472222222222222\n",
      "\n",
      "Training Set (LOF) Classification:\n",
      "Confusion Matrix:\n",
      "[[25  0]\n",
      " [49 23]]\n",
      "tp: 25, fn: 0, fp: 49, tn: 23\n",
      "Accuracy: 0.4948453608247423\n",
      "Specificity: 0.3194444444444444\n",
      "\n",
      "Training Set (OC-CAE) Classification:\n",
      "Confusion Matrix:\n",
      "[[25  0]\n",
      " [10 62]]\n",
      "tp: 25, fn: 0, fp: 10, tn: 62\n",
      "Accuracy: 0.8969072164948454\n",
      "Specificity: 0.8611111111111112\n",
      "\n"
     ]
    }
   ],
   "source": [
    "# Classify Training Set\n",
    "label_training, Boxplot_training, LOF_training, OC_CAE_training = OCC_CAE_class(training_label, training_loss, training_recon, up_whisker, training_normal_recon)\n",
    "\n",
    "print_confusion_matrix(label_training, Boxplot_training, \"Training Set (Boxplot)\")\n",
    "print_confusion_matrix(label_training, LOF_training, \"Training Set (LOF)\")\n",
    "print_confusion_matrix(label_training, OC_CAE_training, \"Training Set (OC-CAE)\")"
   ]
  },
  {
   "cell_type": "markdown",
   "id": "0dc81836-0d6c-4aa0-8023-813f348c9864",
   "metadata": {},
   "source": [
    "## 6.再成形\n",
    "関数 `reshape_data` は、距離ベースの外れ値検出のためにデータを整形するためのものです。次元が `(高さ, 幅, サンプル数)` の3Dデータを、距離ベースの外れ値検出アルゴリズムに適した形式に変換するために使用されます。"
   ]
  },
  {
   "cell_type": "code",
   "execution_count": 31,
   "id": "59c7088a-66ed-4b4f-bc99-9d99ccb831f6",
   "metadata": {},
   "outputs": [],
   "source": [
    "# Reshape Data for Distance-Based Outlier Detection\n",
    "def reshape_data(data):\n",
    "    k = data.shape[2]\n",
    "    data_reshaped = data.transpose(2, 0, 1).reshape(k, -1)\n",
    "    return data_reshaped"
   ]
  },
  {
   "cell_type": "markdown",
   "id": "c4cdca5a-ae5c-45a8-8899-900b6501c767",
   "metadata": {},
   "source": [
    "### コードの説明\n",
    "\n",
    "1. **関数定義**:\n",
    "   ```python\n",
    "   def reshape_data(data):\n",
    "   ```\n",
    "   - `data`: 入力データは通常、3次元のNumPy配列であり、形状は `(高さ, 幅, サンプル数)` です。\n",
    "\n",
    "2. **データの次元数を取得**:\n",
    "   ```python\n",
    "   k = data.shape[2]\n",
    "   ```\n",
    "   - `k` には、サンプル数が格納されます。データの形状から3次元目のサイズを取得しています。\n",
    "\n",
    "3. **データの整形**:\n",
    "   ```python\n",
    "   data_reshaped = data.transpose(2, 0, 1).reshape(k, -1)\n",
    "   ```\n",
    "   - `data.transpose(2, 0, 1)`: ここでデータの次元を変更し、3次元目を最初の次元に移動させます。新しい形状は `(サンプル数, 高さ, 幅)` になります。\n",
    "   - `.reshape(k, -1)`: その後、データを `(サンプル数, 高さ * 幅)` の2次元配列に変形します。ここで `-1` は自動的にサイズを計算するために使用されます。\n",
    "\n",
    "4. **戻り値**:\n",
    "   ```python\n",
    "   return data_reshaped\n",
    "   ```\n",
    "   - 整形されたデータを返します。"
   ]
  },
  {
   "cell_type": "code",
   "execution_count": 32,
   "id": "00691286-f94a-4a38-924d-eccb9d0a8162",
   "metadata": {},
   "outputs": [],
   "source": [
    "X_training_normal_reshaped = reshape_data(data['X_training_normal'])\n",
    "X_training_reshaped = reshape_data(data['X_training'])\n",
    "X_test_reshaped = reshape_data(data['X_test'])\n",
    "X_pre_reshaped = reshape_data(data['X_pre'])"
   ]
  },
  {
   "cell_type": "markdown",
   "id": "e73a9e2f-ef01-444e-9380-b9fbc9527834",
   "metadata": {},
   "source": [
    "### 距離による異常値の排除\n",
    "この関数 `dist` は、与えられたデータポイントから原点までのユークリッド距離を計算するためのものです。距離ベースの外れ値検出アルゴリズムで特に重要です。距離の計算により、異常なデータポイントを特定できます。"
   ]
  },
  {
   "cell_type": "code",
   "execution_count": 33,
   "id": "528ca526-459e-4cac-997b-11d76a2e8ea2",
   "metadata": {},
   "outputs": [],
   "source": [
    "# Distance-Based Outlier Detection\n",
    "def dist(X):\n",
    "    return np.sqrt(np.sum(X ** 2, axis=1))"
   ]
  },
  {
   "cell_type": "markdown",
   "id": "23c04209-f596-4a02-b9da-523a72f4ff40",
   "metadata": {},
   "source": [
    "### コードの説明\n",
    "\n",
    "1. **関数定義**:\n",
    "   ```python\n",
    "   def dist(X):\n",
    "   ```\n",
    "   - `X`: この引数は、各行が1つのデータポイントであり、各列がそのポイントの特徴を表す2次元のNumPy配列（行列）を期待します。\n",
    "\n",
    "2. **ユークリッド距離の計算**:\n",
    "   ```python\n",
    "   return np.sqrt(np.sum(X ** 2, axis=1))\n",
    "   ```\n",
    "   - `X ** 2`: 各データポイントの各特徴を2乗します。\n",
    "   - `np.sum(..., axis=1)`: 行ごとに合計を計算します。これにより、各データポイントの特徴の2乗の合計が得られます。\n",
    "   - `np.sqrt(...)`: 合計の平方根を取ることで、ユークリッド距離が計算されます。これにより、各データポイントが原点からどれだけ離れているかを示すスカラー値が得られます。"
   ]
  },
  {
   "cell_type": "code",
   "execution_count": 34,
   "id": "86222554-865e-402e-972e-745a31e786d9",
   "metadata": {},
   "outputs": [],
   "source": [
    "dist_training_normal = dist(X_training_normal_reshaped)\n",
    "dist_training = dist(X_training_reshaped)\n",
    "dist_test = dist(X_test_reshaped)\n",
    "dist_pre = dist(X_pre_reshaped)"
   ]
  },
  {
   "cell_type": "code",
   "execution_count": 35,
   "id": "b428bf38-e841-4649-ac7b-e0559ec71acf",
   "metadata": {},
   "outputs": [],
   "source": [
    "df_dist = pd.DataFrame(dist_training_normal, columns=['value'])\n",
    "df_dist = df_dist.iloc[:, 0]\n",
    "result, Q1, Q3, up_whisker, low_whisker, outlier_index = box_outlier(df_dist, labels['X_training_normal'])"
   ]
  },
  {
   "cell_type": "markdown",
   "id": "44af8af8-a82a-44be-8871-531b5d8bdc23",
   "metadata": {},
   "source": [
    "### 外れ値の識別\n",
    "この関数 `dist_boxclass` は、距離に基づいて外れ値を識別し、その結果をラベルとして返します。正常なデータポイントは `0`、異常なデータポイントは `1` で表されます。"
   ]
  },
  {
   "cell_type": "code",
   "execution_count": 36,
   "id": "59175fb5-dc98-4740-aec0-3d2ab731f24c",
   "metadata": {},
   "outputs": [],
   "source": [
    "def dist_boxclass(dist, label, up_whisker, low_whisker):\n",
    "    abnormal_indices = np.flatnonzero((dist < low_whisker) | (dist > up_whisker))\n",
    "    dist_prelabel = np.zeros(len(label))\n",
    "    dist_prelabel[abnormal_indices] = 1\n",
    "    return dist_prelabel"
   ]
  },
  {
   "cell_type": "markdown",
   "id": "52fedb45-fa73-4610-a6b9-bc4e0c657cdf",
   "metadata": {},
   "source": [
    "### コードの説明\n",
    "\n",
    "1. **関数定義**:\n",
    "   ```python\n",
    "   def dist_boxclass(dist, label, up_whisker, low_whisker):\n",
    "   ```\n",
    "   - `dist`: 各データポイントの距離を含むNumPy配列。\n",
    "   - `label`: データポイントの元のラベルを含む配列。外れ値検出後の評価に使用される。\n",
    "   - `up_whisker`: 上限値（外れ値の上限）を指定するスカラー値。\n",
    "   - `low_whisker`: 下限値（外れ値の下限）を指定するスカラー値。\n",
    "\n",
    "2. **異常値のインデックスを特定**:\n",
    "   ```python\n",
    "   abnormal_indices = np.flatnonzero((dist < low_whisker) | (dist > up_whisker))\n",
    "   ```\n",
    "   - `dist < low_whisker`: 下限を下回る距離を持つポイントを見つける条件。\n",
    "   - `dist > up_whisker`: 上限を超える距離を持つポイントを見つける条件。\n",
    "   - `np.flatnonzero(...)`: これらの条件を満たすインデックスを取得し、異常値のインデックスを `abnormal_indices` に格納します。\n",
    "\n",
    "3. **異常値のラベル付け**:\n",
    "   ```python\n",
    "   dist_prelabel = np.zeros(len(label))\n",
    "   dist_prelabel[abnormal_indices] = 1\n",
    "   ```\n",
    "   - `np.zeros(len(label))`: ラベル配列と同じ長さのゼロ配列を作成します。この配列は、すべてのデータポイントを正常と見なすことを示します。\n",
    "   - `dist_prelabel[abnormal_indices] = 1`: 異常値のインデックスに対して `1` を設定することで、これらのポイントを異常としてラベル付けします。\n",
    "\n",
    "4. **戻り値**:\n",
    "   ```python\n",
    "   return dist_prelabel\n",
    "   ```\n",
    "   - 異常値のラベルを持つ配列 `dist_prelabel` を返します。正常なデータポイントは `0`、異常なデータポイントは `1` で表されます。"
   ]
  },
  {
   "cell_type": "code",
   "execution_count": 37,
   "id": "85703153-9c53-400a-baad-0060bfffa2c6",
   "metadata": {},
   "outputs": [
    {
     "name": "stdout",
     "output_type": "stream",
     "text": [
      "Training Set Classification:\n",
      "Confusion Matrix:\n",
      "[[20  5]\n",
      " [69  3]]\n",
      "tp: 20, fn: 5, fp: 69, tn: 3\n",
      "Accuracy: 0.23711340206185566\n",
      "Specificity: 0.041666666666666664\n",
      "\n",
      "Test Set Classification:\n",
      "Confusion Matrix:\n",
      "[[ 8  0]\n",
      " [23  1]]\n",
      "tp: 8, fn: 0, fp: 23, tn: 1\n",
      "Accuracy: 0.28125\n",
      "Specificity: 0.041666666666666664\n",
      "\n",
      "Prediction Set Classification:\n",
      "Confusion Matrix:\n",
      "[[3 0]\n",
      " [7 2]]\n",
      "tp: 3, fn: 0, fp: 7, tn: 2\n",
      "Accuracy: 0.4166666666666667\n",
      "Specificity: 0.2222222222222222\n",
      "\n"
     ]
    }
   ],
   "source": [
    "dist_trainlabel = dist_boxclass(dist_training, labels['X_training'], up_whisker, low_whisker)\n",
    "print_confusion_matrix(labels['X_training'], dist_trainlabel, \"Training Set\")\n",
    "\n",
    "dist_testlabel = dist_boxclass(dist_test, labels['X_test'], up_whisker, low_whisker)\n",
    "print_confusion_matrix(labels['X_test'], dist_testlabel, \"Test Set\")\n",
    "\n",
    "dist_prelabel = dist_boxclass(dist_pre, labels['X_pre'], up_whisker, low_whisker)\n",
    "print_confusion_matrix(labels['X_pre'], dist_prelabel, \"Prediction Set\")"
   ]
  },
  {
   "cell_type": "markdown",
   "id": "76f06aaa-7b63-46af-8f8c-987a85d46caf",
   "metadata": {},
   "source": [
    "### LOF（Local Outlier Factor）アルゴリズムによる外れ値の検知\n",
    "\n",
    "このコードは、PyODライブラリを用いてLOF（Local Outlier Factor）アルゴリズムを実行し、訓練セット、テストセット、予測セットに対する外れ値検出を行うものです。LOFアルゴリズムを使用することで、データの局所的な密度に基づいて外れ値を特定できます。"
   ]
  },
  {
   "cell_type": "code",
   "execution_count": 38,
   "id": "e7df6d49-663e-4aa8-af57-a82aa39b4575",
   "metadata": {},
   "outputs": [
    {
     "data": {
      "text/plain": [
       "LOF(algorithm='auto', contamination=0.01, leaf_size=30, metric='minkowski',\n",
       "  metric_params=None, n_jobs=1, n_neighbors=20, novelty=True, p=2)"
      ]
     },
     "execution_count": 38,
     "metadata": {},
     "output_type": "execute_result"
    }
   ],
   "source": [
    "# LOF Algorithm\n",
    "clf_lof = PYOD_LOF(contamination=0.01)\n",
    "clf_lof.fit(X_training_normal_reshaped)"
   ]
  },
  {
   "cell_type": "markdown",
   "id": "e266c83f-37fd-42d2-b757-0aacae8a6b3f",
   "metadata": {},
   "source": [
    "\n",
    "### コードの説明\n",
    "\n",
    "1. **LOFアルゴリズムの初期化**:\n",
    "   ```python\n",
    "   clf_lof = PYOD_LOF(contamination=0.01)\n",
    "   ```\n",
    "   - `PYOD_LOF`: PyODライブラリのLOFアルゴリズムのクラスをインスタンス化しています。\n",
    "   - `contamination=0.01`: データセットに含まれる外れ値の割合を設定しています。ここでは1%を指定しています。\n",
    "\n",
    "2. **訓練データのフィッティング**:\n",
    "   ```python\n",
    "   clf_lof.fit(X_training_normal_reshaped)\n",
    "   ```\n",
    "   - `X_training_normal_reshaped`: リシェイプされた正常な訓練データを使ってLOFモデルをフィットさせます。このステップでモデルはデータのパターンを学習します。"
   ]
  },
  {
   "cell_type": "code",
   "execution_count": 39,
   "id": "6c31c357-2942-4cd0-aad7-b5e093d8b051",
   "metadata": {},
   "outputs": [
    {
     "name": "stdout",
     "output_type": "stream",
     "text": [
      "Training Set (LOF) Classification:\n",
      "Confusion Matrix:\n",
      "[[25  0]\n",
      " [23 49]]\n",
      "tp: 25, fn: 0, fp: 23, tn: 49\n",
      "Accuracy: 0.7628865979381443\n",
      "Specificity: 0.6805555555555556\n",
      "\n",
      "Test Set (LOF) Classification:\n",
      "Confusion Matrix:\n",
      "[[ 7  1]\n",
      " [ 8 16]]\n",
      "tp: 7, fn: 1, fp: 8, tn: 16\n",
      "Accuracy: 0.71875\n",
      "Specificity: 0.6666666666666666\n",
      "\n",
      "Prediction Set (LOF) Classification:\n",
      "Confusion Matrix:\n",
      "[[3 0]\n",
      " [3 6]]\n",
      "tp: 3, fn: 0, fp: 3, tn: 6\n",
      "Accuracy: 0.75\n",
      "Specificity: 0.6666666666666666\n",
      "\n"
     ]
    }
   ],
   "source": [
    "#訓練セットの外れ値予測\n",
    "lof_trainlabel = clf_lof.predict(X_training_reshaped)\n",
    "print_confusion_matrix(labels['X_training'], lof_trainlabel, \"Training Set (LOF)\")\n",
    "\n",
    "#テストセットの外れ値予測\n",
    "lof_testlabel = clf_lof.predict(X_test_reshaped)\n",
    "print_confusion_matrix(labels['X_test'], lof_testlabel, \"Test Set (LOF)\")\n",
    "\n",
    "#予測セットの外れ値予測\n",
    "lof_prelabel = clf_lof.predict(X_pre_reshaped)\n",
    "print_confusion_matrix(labels['X_pre'], lof_prelabel, \"Prediction Set (LOF)\")"
   ]
  },
  {
   "cell_type": "markdown",
   "id": "26a2308e-c6fd-42b5-aabb-ac3e3d34e8d1",
   "metadata": {},
   "source": [
    "### One-Class SVM（サポートベクターマシン）による異常検知\n",
    "\n",
    "このコードは、One-Class SVM（サポートベクターマシン）を用いて異常検知のためのハイパーパラメータチューニングを行い、最適な gamma と nu の値を見つけるものです。なお、`One-Class SVM` は高次元データでのパフォーマンスが低下する可能性があるため、次元削減手法（PCAなど）を適用することが有効です。"
   ]
  },
  {
   "cell_type": "code",
   "execution_count": null,
   "id": "9dd5dbda-ffa8-460c-9165-c3a80211fc09",
   "metadata": {},
   "outputs": [],
   "source": [
    "# One-Class SVM\n",
    "gammas = np.logspace(-4, 2, 7)\n",
    "nus = np.linspace(0.01, 0.99, 99)\n",
    "\n",
    "best_score = 0\n",
    "model_svm = OneClassSVM()\n",
    "\n",
    "for gamma in gammas:\n",
    "    for nu in nus:\n",
    "        model_svm.set_params(kernel='rbf', gamma=gamma, nu=nu)\n",
    "        model_svm.fit(X_training_normal_reshaped)\n",
    "        y_train_pred = model_svm.predict(X_training_reshaped)\n",
    "        y_test_pred = model_svm.predict(X_test_reshaped)\n",
    "        y_pre_pred = model_svm.predict(X_pre_reshaped)\n",
    "\n",
    "        y_train_pred = np.where(y_train_pred == 1, 0, 1)\n",
    "        y_test_pred = np.where(y_test_pred == 1, 0, 1)\n",
    "        y_pre_pred = np.where(y_pre_pred == 1, 0, 1)\n",
    "\n",
    "        score = metrics.accuracy_score(labels['X_training'], y_train_pred) + \\\n",
    "                metrics.accuracy_score(labels['X_test'], y_test_pred) + \\\n",
    "                metrics.accuracy_score(labels['X_pre'], y_pre_pred)\n",
    "        \n",
    "        if score > best_score:\n",
    "            best_score = score\n",
    "            best_parameters = {'gamma': gamma, 'nu': nu}\n",
    "\n",
    "print(f\"Best Score: {best_score:.2f}\")\n",
    "print(f\"Best Parameters: {best_parameters}\")"
   ]
  },
  {
   "cell_type": "markdown",
   "id": "cac7711c-1944-4057-816a-bdcb3424973e",
   "metadata": {},
   "source": [
    "\n",
    "### コードの説明\n",
    "\n",
    "1. **ハイパーパラメータの設定**:\n",
    "   ```python\n",
    "   gammas = np.logspace(-4, 2, 7)\n",
    "   nus = np.linspace(0.01, 0.99, 99)\n",
    "   ```\n",
    "   - `gammas`: 指数的にスケーリングされた値を持つ配列で、`gamma` の範囲を -4 から 2 までの 7 つの値に分割しています。`gamma` はRBFカーネルの幅を決定します。\n",
    "   - `nus`: 0.01から0.99までの99個の値を持つ配列で、`nu` は外れ値の割合を示します。\n",
    "\n",
    "2. **スコアの初期化**:\n",
    "   ```python\n",
    "   best_score = 0\n",
    "   model_svm = OneClassSVM()\n",
    "   ```\n",
    "   - `best_score`: 最良のスコアを保持するための変数を初期化します。\n",
    "   - `model_svm`: One-Class SVMのインスタンスを生成します。\n",
    "\n",
    "3. **ハイパーパラメータの組み合わせを試すループ**:\n",
    "   ```python\n",
    "   for gamma in gammas:\n",
    "       for nu in nus:\n",
    "           model_svm.set_params(kernel='rbf', gamma=gamma, nu=nu)\n",
    "           model_svm.fit(X_training_normal_reshaped)\n",
    "           y_train_pred = model_svm.predict(X_training_reshaped)\n",
    "           y_test_pred = model_svm.predict(X_test_reshaped)\n",
    "           y_pre_pred = model_svm.predict(X_pre_reshaped)\n",
    "   ```\n",
    "   - 各 `gamma` と `nu` の組み合わせに対して、モデルのパラメータを設定し、正常な訓練データでモデルをフィットさせます。\n",
    "   - 訓練データ、テストデータ、予測データに対して予測を行います。\n",
    "\n",
    "4. **予測ラベルの調整**:\n",
    "   ```python\n",
    "   y_train_pred = np.where(y_train_pred == 1, 0, 1)\n",
    "   y_test_pred = np.where(y_test_pred == 1, 0, 1)\n",
    "   y_pre_pred = np.where(y_pre_pred == 1, 0, 1)\n",
    "   ```\n",
    "   - One-Class SVMの予測は、`1`（正常）または `-1`（異常）であるため、これを `0`（正常）または `1`（異常）に変換しています。\n",
    "\n",
    "5. **スコアの計算**:\n",
    "   ```python\n",
    "   score = metrics.accuracy_score(labels['X_training'], y_train_pred) + \\\n",
    "           metrics.accuracy_score(labels['X_test'], y_test_pred) + \\\n",
    "           metrics.accuracy_score(labels['X_pre'], y_pre_pred)\n",
    "   ```\n",
    "   - 各データセットの精度を計算し、合計スコアを求めます。\n",
    "\n",
    "6. **最良のスコアとパラメータの更新**:\n",
    "   ```python\n",
    "   if score > best_score:\n",
    "       best_score = score\n",
    "       best_parameters = {'gamma': gamma, 'nu': nu}\n",
    "   ```\n",
    "   - 現在のスコアが過去の最良スコアよりも高い場合、最良のスコアとそのときのパラメータを更新します。"
   ]
  },
  {
   "cell_type": "markdown",
   "id": "ccd78e73-6077-4008-9d24-61721d62efff",
   "metadata": {},
   "source": [
    "### モデル化と評価\n",
    "前のハイパーパラメータチューニングで見つけた最良の gamma と nu のパラメータを使用して、One-Class SVM モデルを訓練する部分です。"
   ]
  },
  {
   "cell_type": "code",
   "execution_count": null,
   "id": "c48d90c8-7000-4633-a915-f62d1a58308a",
   "metadata": {},
   "outputs": [],
   "source": [
    "model_svm.set_params(**best_parameters)\n",
    "model_svm.fit(X_training_normal_reshaped)"
   ]
  },
  {
   "cell_type": "code",
   "execution_count": null,
   "id": "bb10f4fc-7033-46ec-8351-fd61f13121dc",
   "metadata": {},
   "outputs": [],
   "source": [
    "def classify_with_svm(X_data, labels, model):\n",
    "    preds = model.predict(X_data)\n",
    "    preds = np.where(preds == 1, 0, 1)\n",
    "    print_confusion_matrix(labels, preds, \"Set\")"
   ]
  },
  {
   "cell_type": "code",
   "execution_count": null,
   "id": "14137b1e-e7ea-44e8-b4cf-c92e4a962944",
   "metadata": {},
   "outputs": [],
   "source": [
    "classify_with_svm(X_training_reshaped, labels['X_training'], model_svm)\n",
    "classify_with_svm(X_test_reshaped, labels['X_test'], model_svm)\n",
    "classify_with_svm(X_pre_reshaped, labels['X_pre'], model_svm)"
   ]
  },
  {
   "cell_type": "code",
   "execution_count": null,
   "id": "7e80bae6-cae6-4cc1-92d8-4cd8200785a5",
   "metadata": {},
   "outputs": [],
   "source": []
  },
  {
   "cell_type": "code",
   "execution_count": null,
   "id": "0b921f9a-f8f8-4c0f-9e7b-b25615deaa1a",
   "metadata": {},
   "outputs": [],
   "source": []
  }
 ],
 "metadata": {
  "kernelspec": {
   "display_name": "Python 3 (ipykernel)",
   "language": "python",
   "name": "python3"
  },
  "language_info": {
   "codemirror_mode": {
    "name": "ipython",
    "version": 3
   },
   "file_extension": ".py",
   "mimetype": "text/x-python",
   "name": "python",
   "nbconvert_exporter": "python",
   "pygments_lexer": "ipython3",
   "version": "3.12.4"
  }
 },
 "nbformat": 4,
 "nbformat_minor": 5
}
